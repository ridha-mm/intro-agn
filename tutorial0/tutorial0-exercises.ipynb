{
  "cells": [
    {
      "cell_type": "markdown",
      "id": "04bef2c0",
      "metadata": {
        "id": "04bef2c0"
      },
      "source": [
        "## Python exercises"
      ]
    },
    {
      "cell_type": "code",
      "execution_count": 2,
      "id": "CwbQhFfoo5VM",
      "metadata": {
        "id": "CwbQhFfoo5VM"
      },
      "outputs": [],
      "source": [
        "import numpy as np\n",
        "import pandas as pd\n",
        "import matplotlib.pyplot as plt\n",
        "import astropy.constants as const\n",
        "import astropy.units as u\n",
        "\n",
        "from math import atan2, degrees"
      ]
    },
    {
      "attachments": {},
      "cell_type": "markdown",
      "id": "3b1343a9",
      "metadata": {
        "id": "3b1343a9"
      },
      "source": [
        "**Exercise 1:** Calculate radial velocity and redshift given the rest wavelenght ($\\lambda_0$) and observational wavelenght ($\\lambda$) of the object. To spice things up, you should take into account both relativistic and non-relativistic cases for calculating radial velocity (take $0.1 c$ as threshold).\n",
        "\n",
        "Non-relativistic formula:\n",
        "\n",
        "$$z = \\frac{\\lambda - \\lambda_0}{\\lambda_0} = \\frac{\\Delta \\lambda}{\\lambda_0}= \\frac{v}{c}$$\n",
        "\n",
        "Relativistic formula:\n",
        "\n",
        "$$z = \\frac{\\Delta \\lambda}{\\lambda_0} = \\sqrt{\\frac{1+v/c}{1-v/c}} - 1$$\n",
        "\n",
        "\n",
        "Steps to create an implementation in Python:\n",
        "\n",
        "- Calculate redshift `z` using observed and rest wavelenghts\n",
        "- Use the given thrashold to decide which formula to use for calculating `v`. You can use the following Python construction:\n",
        "\n",
        "```\n",
        "if condition:\n",
        "   # relativistic formula\n",
        "   v = ...\n",
        "else:\n",
        "   # non-relativistic formula\n",
        "   v = ...\n",
        "```\n",
        "- print the values of `v` and `z` (nicely formated)\n",
        "\n",
        "https://docs.astropy.org/en/stable/units/equivalencies.html#spectral-doppler-equivalencies"
      ]
    },
    {
      "cell_type": "code",
      "execution_count": 9,
      "id": "df3f3fcd",
      "metadata": {
        "id": "df3f3fcd"
      },
      "outputs": [
        {
          "name": "stdout",
          "output_type": "stream",
          "text": [
            "The object is moving with a velocity 90111.02783815032 km / s and has a redshift 0.2666666666666668\n"
          ]
        }
      ],
      "source": [
        "# YOUR CODE HERE\n",
        "def redshift(lam_obs, lam_rest):\n",
        "  \"\"\"\n",
        "  A function to calculate velocity and redshift\n",
        "  Inputs:\n",
        "  ------\n",
        "  lam_obs, lam_rest: observed and rest wavelengths\n",
        "  Returns :\n",
        "  -------\n",
        "  v: velocity, z: redshift\n",
        "  \"\"\"\n",
        "\n",
        "  freq_obs = (lam_obs * u.nm).to(u.Hz, equivalencies=u.spectral())\n",
        "  freq_rest = (lam_rest * u.nm).to(u.Hz, equivalencies=u.spectral())\n",
        "\n",
        "  z = (freq_rest - freq_obs)/freq_rest\n",
        "\n",
        "  if z < 0.1:\n",
        "    v = z * const.c\n",
        "    return z, v\n",
        "  \n",
        "  else:\n",
        "    freq_to_vel = u.doppler_relativistic(freq_rest)\n",
        "    v = (freq_obs).to(u.km / u.s, equivalencies=freq_to_vel)  \n",
        "    return z, v\n",
        "\n",
        "\n",
        "z, v = redshift(1500, 1100)\n",
        "\n",
        "print(f\"The object is moving with a velocity {v} and has a redshift {z}\")\n"
      ]
    },
    {
      "cell_type": "markdown",
      "id": "12d24a5c",
      "metadata": {
        "id": "12d24a5c"
      },
      "source": [
        "**Exercise 2:** Create a program that calculates the roots of a second degree polynomial $y=ax^2+bx+c$. Your program needs to know from the user what are the values are of a, b and c."
      ]
    },
    {
      "cell_type": "code",
      "execution_count": 4,
      "id": "19525a20",
      "metadata": {
        "colab": {
          "base_uri": "https://localhost:8080/"
        },
        "id": "19525a20",
        "outputId": "b5b09445-3703-4e55-87b7-bad90e74549b"
      },
      "outputs": [
        {
          "data": {
            "text/plain": [
              "[-1.0, -1.0]"
            ]
          },
          "execution_count": 4,
          "metadata": {},
          "output_type": "execute_result"
        }
      ],
      "source": [
        "def sec_poly(a, b, c):\n",
        "  \"\"\"\n",
        "  A function to calculate roots of a second degree polynomial\n",
        "  Inputs:\n",
        "  ------\n",
        "  Coefficients a, b, c\n",
        "  Returns :\n",
        "  -------\n",
        "  A list of the two roots\n",
        "  \"\"\"\n",
        "\n",
        "  root_1 = (- b + np.sqrt(b**2 - (4*a*c)))/(2*a)\n",
        "  root_2 = (- b - np.sqrt(b**2 - (4*a*c)))/(2*a)\n",
        "\n",
        "  return [root_1, root_2]\n",
        "\n",
        "sec_poly(1,2,1)"
      ]
    },
    {
      "cell_type": "markdown",
      "id": "b308e78b",
      "metadata": {
        "id": "b308e78b"
      },
      "source": [
        "**Exercise 3:** Write a function that calculates a distance to a star, given its apparent magnitude and absolute magnitude, in units of light-years."
      ]
    },
    {
      "cell_type": "code",
      "execution_count": 5,
      "id": "31d07069",
      "metadata": {
        "colab": {
          "base_uri": "https://localhost:8080/"
        },
        "id": "31d07069",
        "outputId": "851e9b7b-7fbc-4be4-a7c4-037e9ab9fcc0"
      },
      "outputs": [
        {
          "data": {
            "text/latex": [
              "$326.15638 \\; \\mathrm{lyr}$"
            ],
            "text/plain": [
              "<Quantity 326.15637772 lyr>"
            ]
          },
          "execution_count": 5,
          "metadata": {},
          "output_type": "execute_result"
        }
      ],
      "source": [
        "def distance(m_app, m_abs):\n",
        "  \"\"\"\n",
        "  A function to calculate distance to a star given apparent and absolute magnitudes. \n",
        "  We do not correct for extinction.\n",
        "  Inputs:\n",
        "  ------\n",
        "  m_app: apparent magnitude, m_abs: absolute magnitude\n",
        "  Returns :\n",
        "  -------\n",
        "  d_ly: distance in light years\n",
        "  \"\"\"\n",
        "\n",
        "  dm = m_app - m_abs\n",
        "  d_pc = 10 * 10**(dm/5)\n",
        "\n",
        "  d_ly = (d_pc * u.parsec).to(u.lyr)\n",
        "\n",
        "  return d_ly\n",
        "\n",
        "distance(21, 16)"
      ]
    },
    {
      "cell_type": "markdown",
      "id": "f2e28043",
      "metadata": {
        "id": "f2e28043"
      },
      "source": [
        "**Exercise 4:** Write a script that determines a quadrant for a given point in Cartesian coordinates.\n",
        "\n",
        "*Hint:* [atan2](https://www.geeksforgeeks.org/atan2-function-python/) function from `math` module could be of help."
      ]
    },
    {
      "cell_type": "code",
      "execution_count": 12,
      "id": "54dc250a",
      "metadata": {
        "id": "54dc250a"
      },
      "outputs": [],
      "source": [
        "def cartesian(x, y):\n",
        "  \"\"\"\n",
        "  A function to determine the quadrant for a given point in Cartesian coordinates\n",
        "  Inputs:\n",
        "  ------\n",
        "  Cartesian coordinates x, y\n",
        "  Returns :\n",
        "  -------\n",
        "  Prints the quadrant\n",
        "  \"\"\"\n",
        "  \n",
        "  deg = degrees(atan2(y, x))\n",
        "\n",
        "  if 0 <= deg < 90:\n",
        "    print(\"Quadrant I\")\n",
        "\n",
        "  elif 90 <= deg < 180:\n",
        "    print(\"Quadrant II\")\n",
        "\n",
        "  elif 180 <= deg < 270:\n",
        "    print(\"Quadrant III\")\n",
        "\n",
        "  elif 270 <= deg < 360:\n",
        "    print(\"Quadrant IV\")\n",
        "\n",
        "cartesian(1, -1)"
      ]
    },
    {
      "attachments": {},
      "cell_type": "markdown",
      "id": "958d2aa1",
      "metadata": {
        "id": "958d2aa1"
      },
      "source": [
        "**Exercise 5:** Implement a function that calculates spectral radiance using the Planck's law. The function should have two input parameters: temperature and wavelength. Plot the spectral radiance as a function of wavelength for several values of temperature.\n",
        "\n",
        "https://physics.info/planck/"
      ]
    },
    {
      "cell_type": "code",
      "execution_count": 18,
      "id": "43f4d283",
      "metadata": {
        "id": "43f4d283"
      },
      "outputs": [
        {
          "data": {
            "image/png": "[encoded data removed]",
            "text/plain": [
              "<Figure size 432x288 with 1 Axes>"
            ]
          },
          "metadata": {
            "needs_background": "light"
          },
          "output_type": "display_data"
        }
      ],
      "source": [
        "def planck(lam, T):\n",
        "    \"\"\"\n",
        "    A function to calculate the spectral radiance using the Planck's law\n",
        "    Inputs:\n",
        "    ------\n",
        "    lam: wavelength and T: temperature\n",
        "    Returns :\n",
        "    -------\n",
        "    B_lam: spectral radiance\n",
        "    \"\"\"\n",
        "\n",
        "    # add units to inputs\n",
        "\n",
        "\n",
        "    B_lam = 2 * const.h * const.c / ((lam * u.nm)**5 * np.e**((const.h * const.c)/ ((lam * u.nm) * const.k_B * (T * u.Kelvin))))\n",
        "\n",
        "    return B_lam\n",
        "\n",
        "lam = np.linspace(100, 2000, 1000)\n",
        "\n",
        "temp = [2500, 5000, 7500]\n",
        "\n",
        "for T in temp:\n",
        "    plt.plot(lam, planck(lam, T), label=str(T)+\"K\")\n",
        "\n",
        "plt.xlabel(r\"$\\lambda$ (nm)\")\n",
        "plt.ylabel(r\"$B_{\\lambda}$ $(W/m^3/sr)$\")\n",
        "plt.legend()\n",
        "plt.show()"
      ]
    },
    {
      "cell_type": "markdown",
      "id": "b1168099",
      "metadata": {
        "id": "b1168099"
      },
      "source": [
        "**Exercise 6:** Can you replicate this plot using NumPy and matplotlib?\n",
        "\n",
        "<br>\n",
        "<div>\n",
        "<img src=\"https://github.com/ridha-mm/mass-agn/blob/main/assets/example.png?raw=1\" width=\"400\"/>\n",
        "</div>\n",
        "\n",
        "Hints:\n",
        "- you can generate dummy data using [np.random.uniform](https://numpy.org/doc/stable/reference/random/generated/numpy.random.uniform.html) function.\n",
        "- you can use [np.where](https://numpy.org/doc/stable/reference/generated/numpy.where.html) to select relevant part of the parameter space."
      ]
    },
    {
      "cell_type": "code",
      "execution_count": 60,
      "id": "13242a75",
      "metadata": {
        "id": "13242a75"
      },
      "outputs": [
        {
          "data": {
            "image/png": "[encoded data removed]",
            "text/plain": [
              "<Figure size 432x288 with 1 Axes>"
            ]
          },
          "metadata": {
            "needs_background": "light"
          },
          "output_type": "display_data"
        }
      ],
      "source": [
        "x = np.random.uniform(0, 2, 1000)\n",
        "y = np.random.uniform(0, 2, 1000)\n",
        "\n",
        "table = pd.DataFrame()\n",
        "table['x'] = x\n",
        "table['y'] = y\n",
        "table['distance'] = np.sqrt(x**2 + y**2)\n",
        "table['bound_1'] = table['distance'] >= 1\n",
        "table['bound_2'] = table['distance'] <= 2\n",
        "\n",
        "table = table[table['bound_1'] & table['bound_2']]\n",
        "\n",
        "plt.scatter(table['x'], table['y'], c=\"blue\")\n",
        "plt.xlabel(\"x\")\n",
        "plt.ylabel(\"y\")\n",
        "plt.show()"
      ]
    }
  ],
  "metadata": {
    "colab": {
      "provenance": []
    },
    "kernelspec": {
      "display_name": "Python 3 (ipykernel)",
      "language": "python",
      "name": "python3"
    },
    "language_info": {
      "codemirror_mode": {
        "name": "ipython",
        "version": 3
      },
      "file_extension": ".py",
      "mimetype": "text/x-python",
      "name": "python",
      "nbconvert_exporter": "python",
      "pygments_lexer": "ipython3",
      "version": "3.8.10"
    },
    "toc": {
      "base_numbering": 1,
      "nav_menu": {},
      "number_sections": true,
      "sideBar": true,
      "skip_h1_title": false,
      "title_cell": "Table of Contents",
      "title_sidebar": "Contents",
      "toc_cell": false,
      "toc_position": {},
      "toc_section_display": true,
      "toc_window_display": false
    },
    "varInspector": {
      "cols": {
        "lenName": 16,
        "lenType": 16,
        "lenVar": 40
      },
      "kernels_config": {
        "python": {
          "delete_cmd_postfix": "",
          "delete_cmd_prefix": "del ",
          "library": "var_list.py",
          "varRefreshCmd": "print(var_dic_list())"
        },
        "r": {
          "delete_cmd_postfix": ") ",
          "delete_cmd_prefix": "rm(",
          "library": "var_list.r",
          "varRefreshCmd": "cat(var_dic_list()) "
        }
      },
      "types_to_exclude": [
        "module",
        "function",
        "builtin_function_or_method",
        "instance",
        "_Feature"
      ],
      "window_display": false
    }
  },
  "nbformat": 4,
  "nbformat_minor": 5
}
