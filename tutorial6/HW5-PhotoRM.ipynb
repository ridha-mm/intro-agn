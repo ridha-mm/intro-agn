{
 "cells": [
  {
   "cell_type": "markdown",
   "id": "58ec2ea0",
   "metadata": {},
   "source": [
    "# Homework 5: Photometric reverberation mapping\n",
    "\n",
    "<span style=\"color:red\">**Deadline:** </span> 08.05.2023."
   ]
  },
  {
   "cell_type": "markdown",
   "id": "d4a68baa",
   "metadata": {},
   "source": [
    "# Task 1\n",
    "\n",
    "**Goal:**\n",
    "\n",
    "- Understand the photometric reverberation mapping method and its limitations. \n",
    "- Introduction to the tools for simulating AGN light curves and performing photoRM.\n",
    "\n",
    "<span style=\"color:blue\">**a)**</span> Familiarize yourself with photRM module (read the docs located in photRM.py). Using the `lc_two_bands` function from the `photRM` module, construct **three pairs** of continuum and emission line light curves of length 5000 days. This is a hypothetical scenario where we generate pairs of light curves as if they are observed in two broadband filters:\n",
    "\n",
    "   - one covering only continuum emission (we will name it *x-band*)\n",
    "   - second covering emission line and the underlying continuum (we will name it *y-band*)\n",
    "\n",
    "Make sure that the light curve pairs are simulated for the artificial AGN objects at z = 0.1 having luminosity (log L): 43, 44, and 45, respectively. The emission line contribution to the total integrated flux should be 25% and the continuum contribution 75% in all cases. Plot the first 1000 days of the light curves and compare the properties (printed when you run `lc_two_bands`) of these three simulated AGN objects. How would you explain the correlation between AGN luminosity and broad line region dimensions (i.e. time-lag)? Cut the light curve length to 1000 points and save them for later use.\n",
    "\n",
    "<span style=\"color:blue\">**b)**</span> Using the photometric reverberation mapping method and the `pyzdcf` module, estimate the time-lag (broad line region radius) for these three light curve pairs. You can use the default values for keyword arguments in the function. How do the time-lag estimates compare to the values reported by `lc_two_bands`? You can estimate the time-lag using the `photRM.peak_finder` or (optionally) you can compile a Fortran code [PLIKE](https://www.weizmann.ac.il/particle/tal/research-activities/software) to obtain more accurate results and errors. Similarly display the results as in Astro Data Lab notebook.\n",
    "\n",
    ">To install pyzdcf:\n",
    ">\n",
    ">   `pip install pyzdcf`\n",
    ">    \n",
    ">or you can run this notebook in Astro Data Lab where `pyzdcf` is already installed.\n",
    "\n",
    "> To run PLIKE:\n",
    ">\n",
    "> - download the source code [here](https://webhome.weizmann.ac.il/home/tal/zdcf/plike_v4.0.f90)\n",
    "> - if you don't have a fortran compiler, I suggest you install `gfortran` on your system\n",
    "> - navigate to the folder containing the downloaded file\n",
    "> - from there, run the following commands in the terminal:  \n",
    "> `gfortran -o plike source_code_filename`  \n",
    "> `./plike`\n",
    "\n",
    "<span style=\"color:blue\">**c)**</span> Now, to reflect a real-world scenario, let's make one of these three pairs of simulated light curves gappier (e.g., the one with log(L) = 44). Alter the light curves so they have the following cadences:\n",
    "\n",
    "- one observation every 5 days\n",
    "- one months of observations every day, then one month pause. Repeat the pattern.\n",
    "- three month of observations every day, followed by six months of observations with a frequency of once per month and then a gap of three months. Repeat the pattern.\n",
    "\n",
    "Estimate the time-lag from these three pairs of light curves. Write your conclusions regarding the accuracy of time-lag retrieval for different observing strategies you implemented. The light curves should not be longer than 1000 days."
   ]
  },
  {
   "cell_type": "code",
   "execution_count": null,
   "id": "b27f5ca6",
   "metadata": {},
   "outputs": [],
   "source": []
  },
  {
   "cell_type": "markdown",
   "id": "d769a357",
   "metadata": {},
   "source": [
    "# Task 2\n",
    "\n",
    "**Goal:** Apply photometric reverberation mapping to real-world data.\n",
    "\n",
    "Download photometric light curves of NGC 4395 from Edri et al. (2012). Choose one filter which covers the continuum emission only and the other one that covers the H$\\alpha$ emission line and the underlying continuum. Using the utility functions provided, process the data so that time is expressed in hours and line intensity and its error are expressed as normalized flux. Plot the light curves. You will see that they are divided into segments because we have a pause in observations during the daylight. Choose the first segment and estimate the time lag using this data. Compare your results to Edri et al. (2012) and discuss the pros and cons of photometric reverberation mapping compared to spectroscopic reverberation mapping."
   ]
  },
  {
   "cell_type": "code",
   "execution_count": null,
   "id": "c7c6f360",
   "metadata": {},
   "outputs": [],
   "source": [
    "# Read the light curves using pd.read_csv()\n",
    "\n",
    "# a = pd.read_csv(path_to_lc_a, header=0, sep=\" \", skipinitialspace=True, usecols=[0,1,2])\n",
    "# b = pd.reda_csv(path_to_lc_b, header=0, sep=\" \", skipinitialspace=True, usecols=[0,1,2])"
   ]
  },
  {
   "cell_type": "code",
   "execution_count": 1,
   "id": "edaf6597",
   "metadata": {},
   "outputs": [
    {
     "name": "stdout",
     "output_type": "stream",
     "text": [
      "Help on function lc_proc in module lc_proc:\n",
      "\n",
      "lc_proc(lcs, filters, time='hours')\n",
      "    Process a list of light curves from Edri et al. (2012). Each light curve \n",
      "    is stored as a pandas dataframe.\n",
      "    \n",
      "    Parameters:\n",
      "    -----------\n",
      "    lcs: list (elements assumed to be pd.DataFrame objects)\n",
      "        A list of light curves. Each light curve is a pd.DataFrame with columns:\n",
      "        MJD, mag, mag_err\n",
      "    filters: str\n",
      "        Corresponding filter names for light curves (possible vals: 'r', 'g', 'i')\n",
      "    time: str\n",
      "        Time unit to convert into. Default is 'hours'.\n",
      "        \n",
      "    Returns:\n",
      "    --------\n",
      "    lcs: list\n",
      "        A list of input light curves with added columns: time_hours, flux, \n",
      "        flux_err, norm_flux, norm_flux_err\n",
      "\n"
     ]
    }
   ],
   "source": [
    "# Light curve processing utility function\n",
    "\n",
    "from lc_proc import lc_proc\n",
    "help(lc_proc)\n",
    "\n",
    "# lcs = [a, b]\n",
    "# filters = ['str1', 'str2'] # see lc_proc docs for accepted values for filters\n",
    "# new_lcs = lc_proc(lcs, filters)"
   ]
  },
  {
   "cell_type": "markdown",
   "id": "82709851",
   "metadata": {},
   "source": [
    "# References:\n",
    "\n",
    "- Edri et al. (2012) https://ui.adsabs.harvard.edu/abs/2012ApJ...756...73E/abstract\n",
    "- Jankov et al. (2022) https://ui.adsabs.harvard.edu/abs/2022AN....34310090J/abstract\n",
    "- Kovacevic et al. (2021) https://ui.adsabs.harvard.edu/abs/2021MNRAS.505.5012K/abstract\n",
    "- [Astro Data Lab](https://datalab.noirlab.edu/)\n",
    "- [pyzdcf documentation](https://pyzdcf.readthedocs.io/en/latest/?badge=latest)\n",
    "- [PLIKE download link](https://www.weizmann.ac.il/particle/tal/research-activities/software)"
   ]
  }
 ],
 "metadata": {
  "kernelspec": {
   "display_name": "Python 3 (ipykernel)",
   "language": "python",
   "name": "python3"
  },
  "language_info": {
   "codemirror_mode": {
    "name": "ipython",
    "version": 3
   },
   "file_extension": ".py",
   "mimetype": "text/x-python",
   "name": "python",
   "nbconvert_exporter": "python",
   "pygments_lexer": "ipython3",
   "version": "3.10.8"
  },
  "varInspector": {
   "cols": {
    "lenName": 16,
    "lenType": 16,
    "lenVar": 40
   },
   "kernels_config": {
    "python": {
     "delete_cmd_postfix": "",
     "delete_cmd_prefix": "del ",
     "library": "var_list.py",
     "varRefreshCmd": "print(var_dic_list())"
    },
    "r": {
     "delete_cmd_postfix": ") ",
     "delete_cmd_prefix": "rm(",
     "library": "var_list.r",
     "varRefreshCmd": "cat(var_dic_list()) "
    }
   },
   "types_to_exclude": [
    "module",
    "function",
    "builtin_function_or_method",
    "instance",
    "_Feature"
   ],
   "window_display": false
  }
 },
 "nbformat": 4,
 "nbformat_minor": 5
}
